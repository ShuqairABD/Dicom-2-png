{
  "nbformat": 4,
  "nbformat_minor": 0,
  "metadata": {
    "colab": {
      "provenance": [],
      "collapsed_sections": [
        "rB8SwnyzBFlK",
        "gG9rNAR_NtyR",
        "H7Ydfe6kNzgn"
      ],
      "authorship_tag": "ABX9TyMY17UCS7jLamJLlUKDiim8",
      "include_colab_link": true
    },
    "kernelspec": {
      "name": "python3",
      "display_name": "Python 3"
    },
    "language_info": {
      "name": "python"
    }
  },
  "cells": [
    {
      "cell_type": "markdown",
      "metadata": {
        "id": "view-in-github",
        "colab_type": "text"
      },
      "source": [
        "<a href=\"https://colab.research.google.com/github/ShuqairABD/Dicom-2-png/blob/main/%D0%9C%D0%9E%D0%99%D0%95_DICOM_2_png.ipynb\" target=\"_parent\"><img src=\"https://colab.research.google.com/assets/colab-badge.svg\" alt=\"Open In Colab\"/></a>"
      ]
    },
    {
      "cell_type": "markdown",
      "source": [
        "### **Start**"
      ],
      "metadata": {
        "id": "rB8SwnyzBFlK"
      }
    },
    {
      "cell_type": "code",
      "source": [
        "!pip install pydicom Pillow matplotlib ipywidgets"
      ],
      "metadata": {
        "id": "sq4OKmg0BIjE"
      },
      "execution_count": null,
      "outputs": []
    },
    {
      "cell_type": "code",
      "source": [
        "!pip install -q jupyter_bbox_widget roboflow dataclasses-json supervision"
      ],
      "metadata": {
        "id": "vnl21BxgBL9W"
      },
      "execution_count": null,
      "outputs": []
    },
    {
      "cell_type": "code",
      "source": [
        "!pip install pydicom pillow matplotlib ipywidgets jupyter_bbox_widget"
      ],
      "metadata": {
        "id": "hDE4aWwdBQo_"
      },
      "execution_count": null,
      "outputs": []
    },
    {
      "cell_type": "code",
      "source": [
        "import pydicom\n",
        "from PIL import Image\n",
        "import numpy as np\n",
        "import matplotlib.pyplot as plt\n",
        "import ipywidgets as widgets\n",
        "from IPython.display import display\n",
        "from jupyter_bbox_widget import BBoxWidget\n",
        "import base64\n",
        "import io\n",
        "from matplotlib.widgets import RectangleSelector\n",
        "import zipfile\n",
        "import os\n",
        "from datetime import datetime\n",
        "\n"
      ],
      "metadata": {
        "id": "esNhahmCBUk0"
      },
      "execution_count": 4,
      "outputs": []
    },
    {
      "cell_type": "code",
      "source": [
        "from google.colab import output\n",
        "output.enable_custom_widget_manager()\n"
      ],
      "metadata": {
        "id": "aHKqnnZFB3PS"
      },
      "execution_count": 5,
      "outputs": []
    },
    {
      "cell_type": "markdown",
      "source": [
        "### **folder**"
      ],
      "metadata": {
        "id": "gG9rNAR_NtyR"
      }
    },
    {
      "cell_type": "code",
      "source": [
        "IS_COLAB = True\n",
        "\n",
        "if IS_COLAB:\n",
        "    from google.colab import output\n",
        "    output.enable_custom_widget_manager()\n"
      ],
      "metadata": {
        "id": "g58R1_q0OoQ9"
      },
      "execution_count": 6,
      "outputs": []
    },
    {
      "cell_type": "code",
      "source": [
        "\n",
        "# Create directory\n",
        "output_dir = '/content/cropped_images'\n",
        "os.makedirs(output_dir, exist_ok=True)\n",
        "\n",
        "#  encode image as base64 (строка)\n",
        "def encode_image(image_array):\n",
        "    pil_image = Image.fromarray(image_array)\n",
        "\n",
        "    buffered = io.BytesIO()\n",
        "    pil_image.save(buffered, format=\"PNG\")\n",
        "    encoded = base64.b64encode(buffered.getvalue()).decode()\n",
        "    return \"data:image/png;base64,\" + encoded\n",
        "\n",
        "# crop and save with new filenames\n",
        "def crop_and_save_images(dicom_path):\n",
        "\n",
        "    print(f\"Loading DICOM file from {dicom_path}...\")\n",
        "    ds = pydicom.dcmread(dicom_path)\n",
        "    print(\"DICOM file loaded.\")\n",
        "\n",
        "    # Extract pixel data\n",
        "    pixel_array = ds.pixel_array\n",
        "    print(\"Pixel data extracted.\")\n",
        "\n",
        "    # BBox\n",
        "    print(\"Initializing BBoxWidget...\")\n",
        "    widget = BBoxWidget()\n",
        "    widget.image = encode_image(pixel_array)\n",
        "    print(\"BBoxWidget initialized.\")\n",
        "\n",
        "    # cropping and saving images\n",
        "    def crop_image(widget):\n",
        "        bboxes = widget.bboxes\n",
        "        print(f\"Widget bboxes: {bboxes}\")\n",
        "        if bboxes:\n",
        "            for i, bbox in enumerate(bboxes):\n",
        "                x_start, y_start, width, height = bbox['x'], bbox['y'], bbox['width'], bbox['height']\n",
        "                x_end, y_end = x_start + width, y_start + height\n",
        "\n",
        "                # Убедиться, что bbox допустимо\n",
        "                if width > 0 and height > 0:\n",
        "                    cropped_array = pixel_array[y_start:y_end, x_start:x_end]\n",
        "\n",
        "                    # Save cropped image with a new filename\n",
        "                    timestamp = datetime.now().strftime(\"%Y%m%d_%H%M%S\")\n",
        "                    filename = f'image_bbox_{timestamp}_{i}.png'\n",
        "                    filepath = os.path.join(output_dir, filename)\n",
        "                    Image.fromarray(cropped_array).save(filepath)\n",
        "                    print(f\"Cropped image saved as '{filepath}'\")\n",
        "                else:\n",
        "                    print(\"Invalid bounding box dimensions.\")\n",
        "\n",
        "    #  bbox changes\n",
        "    def on_bbox_change(change):\n",
        "        print(\"Bounding box updated:\", widget.bboxes)\n",
        "\n",
        "    widget.observe(on_bbox_change, names='bboxes')\n",
        "\n",
        "    # Кнопка\n",
        "    crop_button = widgets.Button(description=\"Crop and Save Image\")\n",
        "    crop_button.on_click(lambda b: crop_image(widget))\n",
        "\n",
        "    # Display widgets\n",
        "    print(\"Displaying widgets...\")\n",
        "    display(widget, crop_button)\n",
        "    print(\"Widgets displayed.\")\n",
        "\n",
        "# Обработать файлы DICOM в папке\n",
        "dicom_folder = '/content/test'\n",
        "dicom_files = [f for f in os.listdir(dicom_folder) if f.endswith('.dcm')]\n",
        "\n",
        "for dicom_file in dicom_files:\n",
        "    dicom_path = os.path.join(dicom_folder, dicom_file)\n",
        "    print(f\"Processing DICOM file: {dicom_path}...\")\n",
        "    crop_and_save_images(dicom_path)\n",
        "\n",
        "\n"
      ],
      "metadata": {
        "id": "kIwPuAe_K6Tt"
      },
      "execution_count": null,
      "outputs": []
    },
    {
      "cell_type": "markdown",
      "source": [
        "### **zip**"
      ],
      "metadata": {
        "id": "H7Ydfe6kNzgn"
      }
    },
    {
      "cell_type": "code",
      "source": [
        "\n",
        "folder_to_zip = '/content/cropped_images'\n",
        "zip_file_path = '/content/cropped_images.zip'\n",
        "\n",
        "\n",
        "with zipfile.ZipFile(zip_file_path, 'w') as zipf:\n",
        "\n",
        "    for root, dirs, files in os.walk(folder_to_zip):\n",
        "        for file in files:\n",
        "\n",
        "            relative_path = os.path.relpath(os.path.join(root, file), folder_to_zip)\n",
        "            zipf.write(os.path.join(root, file), relative_path)\n",
        "\n",
        "print(f\"ZIP file created and ready to download: {zip_file_path}\")\n",
        "\n",
        "from google.colab import files\n",
        "files.download(zip_file_path)\n"
      ],
      "metadata": {
        "colab": {
          "base_uri": "https://localhost:8080/",
          "height": 35
        },
        "id": "Lk20KARrNG0y",
        "outputId": "1aea3ec6-56ce-4704-d315-0b0e26512c1b"
      },
      "execution_count": 8,
      "outputs": [
        {
          "output_type": "stream",
          "name": "stdout",
          "text": [
            "ZIP file created and ready to download: /content/cropped_images.zip\n"
          ]
        },
        {
          "output_type": "display_data",
          "data": {
            "text/plain": [
              "<IPython.core.display.Javascript object>"
            ],
            "application/javascript": [
              "\n",
              "    async function download(id, filename, size) {\n",
              "      if (!google.colab.kernel.accessAllowed) {\n",
              "        return;\n",
              "      }\n",
              "      const div = document.createElement('div');\n",
              "      const label = document.createElement('label');\n",
              "      label.textContent = `Downloading \"${filename}\": `;\n",
              "      div.appendChild(label);\n",
              "      const progress = document.createElement('progress');\n",
              "      progress.max = size;\n",
              "      div.appendChild(progress);\n",
              "      document.body.appendChild(div);\n",
              "\n",
              "      const buffers = [];\n",
              "      let downloaded = 0;\n",
              "\n",
              "      const channel = await google.colab.kernel.comms.open(id);\n",
              "      // Send a message to notify the kernel that we're ready.\n",
              "      channel.send({})\n",
              "\n",
              "      for await (const message of channel.messages) {\n",
              "        // Send a message to notify the kernel that we're ready.\n",
              "        channel.send({})\n",
              "        if (message.buffers) {\n",
              "          for (const buffer of message.buffers) {\n",
              "            buffers.push(buffer);\n",
              "            downloaded += buffer.byteLength;\n",
              "            progress.value = downloaded;\n",
              "          }\n",
              "        }\n",
              "      }\n",
              "      const blob = new Blob(buffers, {type: 'application/binary'});\n",
              "      const a = document.createElement('a');\n",
              "      a.href = window.URL.createObjectURL(blob);\n",
              "      a.download = filename;\n",
              "      div.appendChild(a);\n",
              "      a.click();\n",
              "      div.remove();\n",
              "    }\n",
              "  "
            ]
          },
          "metadata": {}
        },
        {
          "output_type": "display_data",
          "data": {
            "text/plain": [
              "<IPython.core.display.Javascript object>"
            ],
            "application/javascript": [
              "download(\"download_47d34705-c761-430f-915e-064e0eb8644f\", \"cropped_images.zip\", 115172)"
            ]
          },
          "metadata": {}
        }
      ]
    }
  ]
}